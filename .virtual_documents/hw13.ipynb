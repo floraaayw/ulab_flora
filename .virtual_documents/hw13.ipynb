





# Flora Wang





# Your code here 
import numpy as np
import matplotlib.pyplot as plt
from scipy.integrate import solve_ivp





# Your code here
g = 9.8  # acceleration due to gravity in m/s^2
l = 1.0  # length of the pendulum in meters

print(g)
print(l)





# Your code here
def pendulum(t, y):
    # y[0] is theta, y[1] is omega (angular velocity)
    theta, omega = y
    
    # the differential equations
    dtheta_dt = omega
    domega_dt = -(g / l) * np.sin(theta)
    
    return [dtheta_dt, domega_dt]





theta_0 = np.radians(10) # Convert 10 degrees to radians
omega_0 = 0.0 # Initial angular velocity

y0 = [theta_0, omega_0]





# Your code here
solution = solve_ivp(pendulum, [0, 10], y0, t_eval=np.linspace(0, 10, 10))

# plot and display output
plt.plot(solution.t, solution.y[0])
plt.xlabel("Time [s]")
plt.ylabel("Angle [rad]")
plt.title("Pendulum Motion over 10 seconds")
plt.show()

solution.t, solution.y[0]





# Your code here
theta_values = solution.y[0]  # xxtract the angle (theta) values
time_values = solution.t      # extract the time values

# print the extracted values
theta_values, time_values






# Your code here
# calculate the theoretical period using the small-angle approximation
T_theoretical = 2 * np.pi * np.sqrt(l / g)






# Your code here
T_theoretical_two_sigfig = round(T_theoretical, 2) # round to 2 sig figs
print(T_theoretical_two_sigfig)





zero_crossings = np.where(np.diff(np.sign(theta_values)))[0]
if len(zero_crossings) >= 2:
    T_numerical = 2 * (time_values[zero_crossings[1]] - time_values[zero_crossings[0]])
else:
    T_numerical = None





# Your code here
# plot the pendulum motion
plt.plot(time_values, theta_values)

# add horizontal line at y=0
plt.axhline(0, color='r', linestyle='--')

# labeling axes and adding title
plt.xlabel("Time (s)")
plt.ylabel("Theta (radians)")
plt.title("Pendulum Motion")

# show plot
plt.show()






# Your code here
T_numerical_four_sigfig = round(T_numerical, 4)
print(T_numerical_four_sigfig)





# It has a 10% error





# Your code here
import pandas as pd





url = "https://covid.ourworldindata.org/data/owid-covid-data.csv"





# Your code here
df = pd.read_csv('owid-covid-data.csv')
print(df.head())





# Your code here
df_country = df[df['location'] == 'United States'] # select US using "location" and create df_country





# Your code here
df_country_relevant = df_country[['date', 'total_cases']].dropna() # select columns and drop other





df_country.loc[:,'days_since_start'] = range(len(df_country)) # count the number of days

# an error occurred for this, so I searched and added .loc without quite knowing its meaning.





# Your code here
print(df_country.head())





# Your code here
import numpy as np
from scipy.optimize import curve_fit





# Your code here
def exponential_growth(t, C_0, r):
    return C_0 * np.exp(r * t) # return the resulting C





# Your code here
days = df_country['days_since_start'].iloc[:30].values
cases = df_country['total_cases'].iloc[:30].values





# Your code here
params, covariance = curve_fit(exponential_growth, days, cases, p0=[1, 0.1])





# Your code here
C0_fit, r_fit = params





# Your code here
print(round(C0_fit, 2))
print(round(r_fit, 4))





# Your code here
import matplotlib.pyplot as plt

future_days = np.arange(0, 61)  # From 0 to 60 (inclusive)





# Your code here 
predicted_cases = exponential_growth(future_days, C0_fit, r_fit)





# Your code here
plt.scatter(days, cases, label="Observed Data", color="blue")
plt.plot(future_days, predicted_cases, label="Predicted Exponential Growth", color="red")

# add labels, title, and legend
plt.xlabel("Time (days)")
plt.ylabel("Total Cases")
plt.title("COVID-19 Case Prediction vs. Observed Data")
plt.legend()

# show the plot
plt.show()





# Your comment here
# For the existing data, it fits well.





# Your code here
# prediction range to 90 days
future_days = np.arange(0, 91)

# predict the cases for the extended range
predicted_cases = exponential_growth(future_days, C0_fit, r_fit)

# scatter plot the observed data and plot the predicted cases
plt.scatter(days, cases, label="Observed Data", color="blue")
plt.plot(future_days, predicted_cases, label="Predicted Exponential Growth", color="red")

# add labels, title, and legend
plt.xlabel("Time (days)")
plt.ylabel("Total Cases")
plt.title("COVID-19 Case Prediction vs. Observed Data (90 Days)")
plt.legend()

# show the plot
plt.show()





# Your code here
print(exponential_growth(87, C0_fit, r_fit))





# Your code here
import seaborn as sns
import matplotlib.pyplot as plt
import scipy.stats as stats

# load "tips" dataset
tips = sns.load_dataset('tips')

# create scatter plot with regression line
sns.lmplot(x='total_bill', y='tip', data=tips, aspect=1.5, height=6)

# add labels and title
plt.xlabel('Total Bill')
plt.ylabel('Tip')
plt.title('Total Bill vs Tip with Linear Regression')

# show plot
plt.show()


# fit a linear regression model using scipy
slope, intercept, r_value, p_value, std_err = stats.linregress(tips['total_bill'], tips['tip'])

# create regression
x_values = tips['total_bill']
y_values = slope * x_values + intercept

# plot data and regression
plt.scatter(tips['total_bill'], tips['tip'], color='blue', label='Data')
plt.plot(x_values, y_values, color='red', label=f'Linear Model: y = {slope:.2f}x + {intercept:.2f}')
plt.xlabel('Total Bill')
plt.ylabel('Tip')
plt.title('Total Bill vs Tip with Fitted Linear Model')
plt.legend()
plt.show()



