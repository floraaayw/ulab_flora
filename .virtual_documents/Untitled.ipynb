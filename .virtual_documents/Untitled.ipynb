# dictionary
type({"color" : "blue"})


# tuple
type((1,2))


# set
type({1,2})


# string, int, float, boolean
